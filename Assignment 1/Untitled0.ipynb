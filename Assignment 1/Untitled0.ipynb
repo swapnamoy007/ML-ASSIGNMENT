{
  "nbformat": 4,
  "nbformat_minor": 0,
  "metadata": {
    "colab": {
      "provenance": []
    },
    "kernelspec": {
      "name": "python3",
      "display_name": "Python 3"
    },
    "language_info": {
      "name": "python"
    }
  },
  "cells": [
    {
      "cell_type": "code",
      "execution_count": null,
      "metadata": {
        "colab": {
          "base_uri": "https://localhost:8080/",
          "height": 36
        },
        "id": "RK74Hf1RJrEI",
        "outputId": "1cfa4932-eceb-45b4-ef39-0c15ca7dabd1"
      },
      "outputs": [
        {
          "output_type": "execute_result",
          "data": {
            "text/plain": [
              "'I am not familiar with Python'"
            ],
            "application/vnd.google.colaboratory.intrinsic+json": {
              "type": "string"
            }
          },
          "metadata": {},
          "execution_count": 1
        }
      ],
      "source": [
        "\"I am not familiar with Python\"\n",
        "\n"
      ]
    },
    {
      "cell_type": "code",
      "source": [
        "\"swapnamoy dutta\"\n",
        "\"Bredesen center for interdisciplinary research and graduate education (ESE)\""
      ],
      "metadata": {
        "colab": {
          "base_uri": "https://localhost:8080/",
          "height": 36
        },
        "id": "foJKZrcGJ5CO",
        "outputId": "996701a5-444c-46df-9c9d-f49e1c8823ae"
      },
      "execution_count": null,
      "outputs": [
        {
          "output_type": "execute_result",
          "data": {
            "text/plain": [
              "'Bredesen center for interdisciplinary research and graduate education (ESE)'"
            ],
            "application/vnd.google.colaboratory.intrinsic+json": {
              "type": "string"
            }
          },
          "metadata": {},
          "execution_count": 3
        }
      ]
    },
    {
      "cell_type": "markdown",
      "source": [
        "#Chapter 1"
      ],
      "metadata": {
        "id": "rFTRxq1yP4JT"
      }
    },
    {
      "cell_type": "markdown",
      "source": [
        "Excercise 1\n"
      ],
      "metadata": {
        "id": "nhznUPsr2-o_"
      }
    },
    {
      "cell_type": "code",
      "source": [
        "(100 - 5 ** 3) / 5"
      ],
      "metadata": {
        "colab": {
          "base_uri": "https://localhost:8080/"
        },
        "id": "qllygM_rKAib",
        "outputId": "7a33196a-bf51-4276-bf39-c4a6c8055086"
      },
      "execution_count": null,
      "outputs": [
        {
          "output_type": "execute_result",
          "data": {
            "text/plain": [
              "-5.0"
            ]
          },
          "metadata": {},
          "execution_count": 1
        }
      ]
    },
    {
      "cell_type": "code",
      "source": [
        "6 + 15 % 4"
      ],
      "metadata": {
        "colab": {
          "base_uri": "https://localhost:8080/"
        },
        "id": "AIiTIQDLLX50",
        "outputId": "c804020f-19cc-450b-ba5a-c66235026a11"
      },
      "execution_count": null,
      "outputs": [
        {
          "output_type": "execute_result",
          "data": {
            "text/plain": [
              "9"
            ]
          },
          "metadata": {},
          "execution_count": 2
        }
      ]
    },
    {
      "cell_type": "code",
      "source": [
        "2 ** 2 + 24 // 4"
      ],
      "metadata": {
        "colab": {
          "base_uri": "https://localhost:8080/"
        },
        "id": "pfBYmX9QLoBT",
        "outputId": "bc93d36a-9516-4150-d24e-6a5d8c0bf9a1"
      },
      "execution_count": null,
      "outputs": [
        {
          "output_type": "execute_result",
          "data": {
            "text/plain": [
              "10"
            ]
          },
          "metadata": {},
          "execution_count": 3
        }
      ]
    },
    {
      "cell_type": "code",
      "source": [
        "2 ** 2 + 24 // 4"
      ],
      "metadata": {
        "colab": {
          "base_uri": "https://localhost:8080/"
        },
        "id": "wOpxTHLf2fLE",
        "outputId": "bb39bdab-0093-43f1-80a2-f2c755a9725a"
      },
      "execution_count": null,
      "outputs": [
        {
          "output_type": "execute_result",
          "data": {
            "text/plain": [
              "10"
            ]
          },
          "metadata": {},
          "execution_count": 4
        }
      ]
    },
    {
      "cell_type": "markdown",
      "source": [
        "Excercise 2\n"
      ],
      "metadata": {
        "id": "oPhUVwuI3Eei"
      }
    },
    {
      "cell_type": "code",
      "source": [
        "type(6)"
      ],
      "metadata": {
        "colab": {
          "base_uri": "https://localhost:8080/"
        },
        "id": "nFtubksB2itr",
        "outputId": "92e4dd40-a094-4b85-c48e-ee155e13e90f"
      },
      "execution_count": null,
      "outputs": [
        {
          "output_type": "execute_result",
          "data": {
            "text/plain": [
              "int"
            ]
          },
          "metadata": {},
          "execution_count": 5
        }
      ]
    },
    {
      "cell_type": "code",
      "source": [
        "type(6.0)"
      ],
      "metadata": {
        "colab": {
          "base_uri": "https://localhost:8080/"
        },
        "id": "EpW0tNta2oAU",
        "outputId": "45e4a30e-1159-4b51-e00d-3763500c9ff3"
      },
      "execution_count": null,
      "outputs": [
        {
          "output_type": "execute_result",
          "data": {
            "text/plain": [
              "float"
            ]
          },
          "metadata": {},
          "execution_count": 6
        }
      ]
    },
    {
      "cell_type": "code",
      "source": [
        "5 + 3.14"
      ],
      "metadata": {
        "colab": {
          "base_uri": "https://localhost:8080/"
        },
        "id": "B0RaUjL32q2i",
        "outputId": "448ed2f1-d49f-4e64-b789-64fd81ed00c2"
      },
      "execution_count": null,
      "outputs": [
        {
          "output_type": "execute_result",
          "data": {
            "text/plain": [
              "8.14"
            ]
          },
          "metadata": {},
          "execution_count": 7
        }
      ]
    },
    {
      "cell_type": "code",
      "source": [
        "int(7.999999999)"
      ],
      "metadata": {
        "colab": {
          "base_uri": "https://localhost:8080/"
        },
        "id": "mIrVCrgi2uL4",
        "outputId": "337f760b-0dc2-46b0-e909-aa45358b1bb5"
      },
      "execution_count": null,
      "outputs": [
        {
          "output_type": "execute_result",
          "data": {
            "text/plain": [
              "7"
            ]
          },
          "metadata": {},
          "execution_count": 8
        }
      ]
    },
    {
      "cell_type": "code",
      "source": [
        "float(6)"
      ],
      "metadata": {
        "colab": {
          "base_uri": "https://localhost:8080/"
        },
        "id": "2D0Gc6y32x1x",
        "outputId": "95080276-478c-4183-cbf2-c0e2f4e8d0e6"
      },
      "execution_count": null,
      "outputs": [
        {
          "output_type": "execute_result",
          "data": {
            "text/plain": [
              "6.0"
            ]
          },
          "metadata": {},
          "execution_count": 9
        }
      ]
    },
    {
      "cell_type": "code",
      "source": [],
      "metadata": {
        "id": "mT22g6YC21m9"
      },
      "execution_count": null,
      "outputs": []
    },
    {
      "cell_type": "markdown",
      "source": [
        "Excercise 3\n"
      ],
      "metadata": {
        "id": "k18hwxTp3HEi"
      }
    },
    {
      "cell_type": "code",
      "source": [
        "x = 2\n",
        "x + 1\n"
      ],
      "metadata": {
        "colab": {
          "base_uri": "https://localhost:8080/"
        },
        "id": "MJktuqK23MPr",
        "outputId": "5bd6568c-a941-4711-825e-4d56667e1d74"
      },
      "execution_count": null,
      "outputs": [
        {
          "output_type": "execute_result",
          "data": {
            "text/plain": [
              "3"
            ]
          },
          "metadata": {},
          "execution_count": 10
        }
      ]
    },
    {
      "cell_type": "code",
      "source": [
        "x"
      ],
      "metadata": {
        "colab": {
          "base_uri": "https://localhost:8080/"
        },
        "id": "R1o5Co3X3PvF",
        "outputId": "2e7ae19c-6b47-4bb6-f1c9-1b0d36ab44d2"
      },
      "execution_count": null,
      "outputs": [
        {
          "output_type": "execute_result",
          "data": {
            "text/plain": [
              "2"
            ]
          },
          "metadata": {},
          "execution_count": 11
        }
      ]
    },
    {
      "cell_type": "code",
      "source": [
        "x = 3.0\n",
        "x = x + 1\n",
        "x\n"
      ],
      "metadata": {
        "colab": {
          "base_uri": "https://localhost:8080/"
        },
        "id": "DTPIVrlN3TOH",
        "outputId": "a7794bec-f7e6-467c-9734-eb002d6ad24e"
      },
      "execution_count": null,
      "outputs": [
        {
          "output_type": "execute_result",
          "data": {
            "text/plain": [
              "4.0"
            ]
          },
          "metadata": {},
          "execution_count": 12
        }
      ]
    },
    {
      "cell_type": "code",
      "source": [
        "#Activity 1"
      ],
      "metadata": {
        "id": "eW9LiYGZ3dkL"
      },
      "execution_count": null,
      "outputs": []
    },
    {
      "cell_type": "code",
      "source": [
        "x = 14\n",
        "x += 1\n",
        "(x/5) ** 2"
      ],
      "metadata": {
        "colab": {
          "base_uri": "https://localhost:8080/"
        },
        "id": "GNRhHWaf3oxT",
        "outputId": "7352a62e-7638-4b40-d1e1-3d675300d30b"
      },
      "execution_count": null,
      "outputs": [
        {
          "output_type": "execute_result",
          "data": {
            "text/plain": [
              "9.0"
            ]
          },
          "metadata": {},
          "execution_count": 14
        }
      ]
    },
    {
      "cell_type": "markdown",
      "source": [
        "Excercise 4"
      ],
      "metadata": {
        "id": "Ju9yv6MQ32mF"
      }
    },
    {
      "cell_type": "code",
      "source": [
        "1st_number = 1\n",
        "first_number = 1\n",
        "my_$ = 1000.00\n",
        "my_money = 1000.00"
      ],
      "metadata": {
        "colab": {
          "base_uri": "https://localhost:8080/",
          "height": 110
        },
        "id": "x-TTcjjR3uTO",
        "outputId": "9ad02407-141a-4b19-9968-e889adeb4d90"
      },
      "execution_count": null,
      "outputs": [
        {
          "output_type": "error",
          "ename": "SyntaxError",
          "evalue": "invalid decimal literal (<ipython-input-15-bd57b7506e16>, line 1)",
          "traceback": [
            "\u001b[0;36m  File \u001b[0;32m\"<ipython-input-15-bd57b7506e16>\"\u001b[0;36m, line \u001b[0;32m1\u001b[0m\n\u001b[0;31m    1st_number = 1\u001b[0m\n\u001b[0m    ^\u001b[0m\n\u001b[0;31mSyntaxError\u001b[0m\u001b[0;31m:\u001b[0m invalid decimal literal\n"
          ]
        }
      ]
    },
    {
      "cell_type": "markdown",
      "source": [
        "Excercise 5"
      ],
      "metadata": {
        "id": "V9YJkYqB4apN"
      }
    },
    {
      "cell_type": "code",
      "source": [
        "x = 5\n",
        "y = 2\n",
        "x + x - y ** 2"
      ],
      "metadata": {
        "colab": {
          "base_uri": "https://localhost:8080/"
        },
        "id": "3xgr8TSs4CFk",
        "outputId": "784c0208-70cc-4829-e65b-6db22fb79b27"
      },
      "execution_count": null,
      "outputs": [
        {
          "output_type": "execute_result",
          "data": {
            "text/plain": [
              "6"
            ]
          },
          "metadata": {},
          "execution_count": 16
        }
      ]
    },
    {
      "cell_type": "code",
      "source": [
        "x, y = 8, 5\n",
        "x // y"
      ],
      "metadata": {
        "colab": {
          "base_uri": "https://localhost:8080/"
        },
        "id": "cvpQ72vN4i0y",
        "outputId": "1cc0c95f-4828-4507-c636-914f5735f930"
      },
      "execution_count": null,
      "outputs": [
        {
          "output_type": "execute_result",
          "data": {
            "text/plain": [
              "1"
            ]
          },
          "metadata": {},
          "execution_count": 17
        }
      ]
    },
    {
      "cell_type": "markdown",
      "source": [
        "Excercise 6"
      ],
      "metadata": {
        "id": "wnmdpzMp4ysx"
      }
    },
    {
      "cell_type": "code",
      "source": [
        "# This is a comment\n",
        "# Set the variable pi equal to 3.14\n",
        "pi = 3.14"
      ],
      "metadata": {
        "id": "WHjXclTk4qTf"
      },
      "execution_count": null,
      "outputs": []
    },
    {
      "cell_type": "code",
      "source": [
        "bookstore = 'City Lights'\n",
        "bookstore = 'City Lights\""
      ],
      "metadata": {
        "colab": {
          "base_uri": "https://localhost:8080/",
          "height": 110
        },
        "id": "nfqCVh_847ZK",
        "outputId": "d17d3c22-f41f-4eb2-e388-47f6fc663f5b"
      },
      "execution_count": null,
      "outputs": [
        {
          "output_type": "error",
          "ename": "SyntaxError",
          "evalue": "unterminated string literal (detected at line 2) (<ipython-input-19-64068d6cc1ae>, line 2)",
          "traceback": [
            "\u001b[0;36m  File \u001b[0;32m\"<ipython-input-19-64068d6cc1ae>\"\u001b[0;36m, line \u001b[0;32m2\u001b[0m\n\u001b[0;31m    bookstore = 'City Lights\"\u001b[0m\n\u001b[0m                ^\u001b[0m\n\u001b[0;31mSyntaxError\u001b[0m\u001b[0;31m:\u001b[0m unterminated string literal (detected at line 2)\n"
          ]
        }
      ]
    },
    {
      "cell_type": "code",
      "source": [
        "bookstore = \"Moe's\""
      ],
      "metadata": {
        "id": "j4xJYMH35Ln-"
      },
      "execution_count": null,
      "outputs": []
    },
    {
      "cell_type": "code",
      "source": [
        "bookstore = 'Moe's'"
      ],
      "metadata": {
        "colab": {
          "base_uri": "https://localhost:8080/",
          "height": 110
        },
        "id": "TnGphkbu5T0E",
        "outputId": "423086a0-9486-4aff-d99d-439f00035046"
      },
      "execution_count": null,
      "outputs": [
        {
          "output_type": "error",
          "ename": "SyntaxError",
          "evalue": "unterminated string literal (detected at line 1) (<ipython-input-21-0ef68cccb92b>, line 1)",
          "traceback": [
            "\u001b[0;36m  File \u001b[0;32m\"<ipython-input-21-0ef68cccb92b>\"\u001b[0;36m, line \u001b[0;32m1\u001b[0m\n\u001b[0;31m    bookstore = 'Moe's'\u001b[0m\n\u001b[0m                      ^\u001b[0m\n\u001b[0;31mSyntaxError\u001b[0m\u001b[0;31m:\u001b[0m unterminated string literal (detected at line 1)\n"
          ]
        }
      ]
    },
    {
      "cell_type": "code",
      "source": [
        "\n",
        "bookstore = 'Moe\\'s'"
      ],
      "metadata": {
        "id": "2zz2oUWW5VwA"
      },
      "execution_count": null,
      "outputs": []
    },
    {
      "cell_type": "markdown",
      "source": [
        "Excercise 7 & 8"
      ],
      "metadata": {
        "id": "jY6Yzy1K6A6q"
      }
    },
    {
      "cell_type": "code",
      "source": [
        "\n",
        "greeting = 'Hello'\n",
        "print(greeting)"
      ],
      "metadata": {
        "colab": {
          "base_uri": "https://localhost:8080/"
        },
        "id": "BqO4QEMN5duZ",
        "outputId": "c4608fc8-a7dc-4474-a726-7c1cfa423c45"
      },
      "execution_count": null,
      "outputs": [
        {
          "output_type": "stream",
          "name": "stdout",
          "text": [
            "Hello\n"
          ]
        }
      ]
    },
    {
      "cell_type": "code",
      "source": [
        "greeting"
      ],
      "metadata": {
        "colab": {
          "base_uri": "https://localhost:8080/",
          "height": 36
        },
        "id": "lxFxMStt5pxj",
        "outputId": "ea4b7daf-bf8f-48ef-d433-e763187a7cc7"
      },
      "execution_count": null,
      "outputs": [
        {
          "output_type": "execute_result",
          "data": {
            "text/plain": [
              "'Hello'"
            ],
            "application/vnd.google.colaboratory.intrinsic+json": {
              "type": "string"
            }
          },
          "metadata": {},
          "execution_count": 24
        }
      ]
    },
    {
      "cell_type": "code",
      "source": [
        "spanish_greeting = 'Hola.'"
      ],
      "metadata": {
        "id": "paxQthWf5uBD"
      },
      "execution_count": null,
      "outputs": []
    },
    {
      "cell_type": "code",
      "source": [
        "spanish_greeting"
      ],
      "metadata": {
        "colab": {
          "base_uri": "https://localhost:8080/",
          "height": 36
        },
        "id": "8QiQLoWJ5w7-",
        "outputId": "d8552c03-3ab4-492f-a8f8-aee041655e79"
      },
      "execution_count": null,
      "outputs": [
        {
          "output_type": "execute_result",
          "data": {
            "text/plain": [
              "'Hola.'"
            ],
            "application/vnd.google.colaboratory.intrinsic+json": {
              "type": "string"
            }
          },
          "metadata": {},
          "execution_count": 26
        }
      ]
    },
    {
      "cell_type": "code",
      "source": [
        "arabic_greeting = 'Ahlan wa sahlan.'"
      ],
      "metadata": {
        "id": "NfqBVRMm50Bh"
      },
      "execution_count": null,
      "outputs": []
    },
    {
      "cell_type": "code",
      "source": [
        "print(arabic_greeting)"
      ],
      "metadata": {
        "colab": {
          "base_uri": "https://localhost:8080/"
        },
        "id": "YjH10X7T52EM",
        "outputId": "f6e49c5a-850f-4bf0-8af5-35b8c3c952d0"
      },
      "execution_count": null,
      "outputs": [
        {
          "output_type": "stream",
          "name": "stdout",
          "text": [
            "Ahlan wa sahlan.\n"
          ]
        }
      ]
    },
    {
      "cell_type": "markdown",
      "source": [
        "Excercise 9"
      ],
      "metadata": {
        "id": "xr5c6qLe6GgN"
      }
    },
    {
      "cell_type": "code",
      "source": [
        "spanish_greeting = 'Hola'"
      ],
      "metadata": {
        "id": "JUZnnj6B54pt"
      },
      "execution_count": null,
      "outputs": []
    },
    {
      "cell_type": "code",
      "source": [
        "print(spanish_greeting + 'Senor.')"
      ],
      "metadata": {
        "colab": {
          "base_uri": "https://localhost:8080/"
        },
        "id": "1O0tERk16Tbt",
        "outputId": "77382bd8-e69e-4c0e-f35e-0f6b039529e9"
      },
      "execution_count": null,
      "outputs": [
        {
          "output_type": "stream",
          "name": "stdout",
          "text": [
            "HolaSenor.\n"
          ]
        }
      ]
    },
    {
      "cell_type": "code",
      "source": [
        "spanish_greeting = 'Hola '"
      ],
      "metadata": {
        "id": "7VmHYHxn6WmP"
      },
      "execution_count": null,
      "outputs": []
    },
    {
      "cell_type": "code",
      "source": [
        "print(spanish_greeting + ' Senor.')"
      ],
      "metadata": {
        "colab": {
          "base_uri": "https://localhost:8080/"
        },
        "id": "Q61cXHIM6agJ",
        "outputId": "7334ab35-d48a-4233-92c2-3c6b791336fb"
      },
      "execution_count": null,
      "outputs": [
        {
          "output_type": "stream",
          "name": "stdout",
          "text": [
            "Hola  Senor.\n"
          ]
        }
      ]
    },
    {
      "cell_type": "code",
      "source": [
        "greeting = 'Hello'\n",
        "print(greeting * 5)"
      ],
      "metadata": {
        "colab": {
          "base_uri": "https://localhost:8080/"
        },
        "id": "Er5-BzFf6cfQ",
        "outputId": "6f39033e-79b5-4047-c197-86893e4057db"
      },
      "execution_count": null,
      "outputs": [
        {
          "output_type": "stream",
          "name": "stdout",
          "text": [
            "HelloHelloHelloHelloHello\n"
          ]
        }
      ]
    },
    {
      "cell_type": "code",
      "source": [
        "name = 'Josephine'\n",
        "name.lower()"
      ],
      "metadata": {
        "colab": {
          "base_uri": "https://localhost:8080/",
          "height": 36
        },
        "id": "bszUh6aH6hE8",
        "outputId": "d442d3b0-b46e-4f9e-d581-55857626e292"
      },
      "execution_count": null,
      "outputs": [
        {
          "output_type": "execute_result",
          "data": {
            "text/plain": [
              "'josephine'"
            ],
            "application/vnd.google.colaboratory.intrinsic+json": {
              "type": "string"
            }
          },
          "metadata": {},
          "execution_count": 40
        }
      ]
    },
    {
      "cell_type": "code",
      "source": [
        "name.capitalize()"
      ],
      "metadata": {
        "colab": {
          "base_uri": "https://localhost:8080/",
          "height": 36
        },
        "id": "xPDyOCWq7Ckw",
        "outputId": "43c8c1b3-6adc-435c-a67f-fcec4e99b06c"
      },
      "execution_count": null,
      "outputs": [
        {
          "output_type": "execute_result",
          "data": {
            "text/plain": [
              "'Josephine'"
            ],
            "application/vnd.google.colaboratory.intrinsic+json": {
              "type": "string"
            }
          },
          "metadata": {},
          "execution_count": 39
        }
      ]
    },
    {
      "cell_type": "code",
      "source": [
        "name.upper()"
      ],
      "metadata": {
        "colab": {
          "base_uri": "https://localhost:8080/",
          "height": 36
        },
        "id": "rZ1saTE56_Zs",
        "outputId": "81f3a936-9eb2-4780-b72c-3ced115de5e5"
      },
      "execution_count": null,
      "outputs": [
        {
          "output_type": "execute_result",
          "data": {
            "text/plain": [
              "'JOSEPHINE'"
            ],
            "application/vnd.google.colaboratory.intrinsic+json": {
              "type": "string"
            }
          },
          "metadata": {},
          "execution_count": 38
        }
      ]
    },
    {
      "cell_type": "code",
      "source": [
        "name.count('e')"
      ],
      "metadata": {
        "colab": {
          "base_uri": "https://localhost:8080/"
        },
        "id": "qXS-UMSI6xXt",
        "outputId": "58632262-a724-4607-85a6-b5622bc586e5"
      },
      "execution_count": null,
      "outputs": [
        {
          "output_type": "execute_result",
          "data": {
            "text/plain": [
              "2"
            ]
          },
          "metadata": {},
          "execution_count": 37
        }
      ]
    },
    {
      "cell_type": "markdown",
      "source": [
        "Excercise 10,11,12 and 13"
      ],
      "metadata": {
        "id": "9cinIFnG7UyI"
      }
    },
    {
      "cell_type": "code",
      "source": [
        "type('5')\n",
        "'5' + '7'"
      ],
      "metadata": {
        "colab": {
          "base_uri": "https://localhost:8080/",
          "height": 36
        },
        "id": "2YbETT2Y69OD",
        "outputId": "45c664fa-f8c3-4292-83b0-7da75f7b505e"
      },
      "execution_count": null,
      "outputs": [
        {
          "output_type": "execute_result",
          "data": {
            "text/plain": [
              "'57'"
            ],
            "application/vnd.google.colaboratory.intrinsic+json": {
              "type": "string"
            }
          },
          "metadata": {},
          "execution_count": 41
        }
      ]
    },
    {
      "cell_type": "code",
      "source": [
        "int('5') + int('7')"
      ],
      "metadata": {
        "colab": {
          "base_uri": "https://localhost:8080/"
        },
        "id": "oep3lDIg7aTy",
        "outputId": "cb20c775-eae3-42dd-c098-dbc8b749f6a0"
      },
      "execution_count": null,
      "outputs": [
        {
          "output_type": "execute_result",
          "data": {
            "text/plain": [
              "12"
            ]
          },
          "metadata": {},
          "execution_count": 42
        }
      ]
    },
    {
      "cell_type": "code",
      "source": [
        "name = input('What is your name?')"
      ],
      "metadata": {
        "id": "uH-qXSw67fi3",
        "colab": {
          "base_uri": "https://localhost:8080/"
        },
        "outputId": "e744ba3d-9090-40ba-c2de-e9dd578a5360"
      },
      "execution_count": null,
      "outputs": [
        {
          "name": "stdout",
          "output_type": "stream",
          "text": [
            "What is your name?axel\n"
          ]
        }
      ]
    },
    {
      "cell_type": "code",
      "source": [
        "print(f'Hello, {name}.')"
      ],
      "metadata": {
        "id": "lJhVsfm37kLP"
      },
      "execution_count": null,
      "outputs": []
    },
    {
      "cell_type": "code",
      "source": [
        "destination = 'San Francisco'\n",
        "destination[0]"
      ],
      "metadata": {
        "id": "uy8DWcvy7pV4"
      },
      "execution_count": null,
      "outputs": []
    },
    {
      "cell_type": "code",
      "source": [
        "destination[-1]"
      ],
      "metadata": {
        "id": "zx0k9RQq77h-"
      },
      "execution_count": null,
      "outputs": []
    },
    {
      "cell_type": "code",
      "source": [
        "destination[-2]"
      ],
      "metadata": {
        "id": "9EK1aP0W78qo"
      },
      "execution_count": null,
      "outputs": []
    },
    {
      "cell_type": "code",
      "source": [
        "bridge = 'Golden Gate'\n",
        "bridge[6]"
      ],
      "metadata": {
        "id": "u4MqbbBr7_ek"
      },
      "execution_count": null,
      "outputs": []
    },
    {
      "cell_type": "code",
      "source": [
        "over_18 = True\n",
        "type(over_18)"
      ],
      "metadata": {
        "id": "0KmLjJ5K8CYv"
      },
      "execution_count": null,
      "outputs": []
    },
    {
      "cell_type": "code",
      "source": [
        "over_18, over_21 = True, False"
      ],
      "metadata": {
        "id": "S8TNU-aK8Kdk"
      },
      "execution_count": null,
      "outputs": []
    },
    {
      "cell_type": "code",
      "source": [
        "over_18 and over_21"
      ],
      "metadata": {
        "id": "KgNAyydW8Nwu"
      },
      "execution_count": null,
      "outputs": []
    },
    {
      "cell_type": "code",
      "source": [
        "not over_18"
      ],
      "metadata": {
        "id": "utBVHivN8QT2"
      },
      "execution_count": null,
      "outputs": []
    },
    {
      "cell_type": "code",
      "source": [
        "not over_21 or (over_21 or over_18)"
      ],
      "metadata": {
        "id": "NGFZNkcd8UsW"
      },
      "execution_count": null,
      "outputs": []
    },
    {
      "cell_type": "markdown",
      "source": [
        "Exercise 14"
      ],
      "metadata": {
        "id": "zP2hP53u8tl-"
      }
    },
    {
      "cell_type": "code",
      "source": [
        "income = 80000\n",
        "income < 75000\n"
      ],
      "metadata": {
        "id": "ALi6SpxI8Yt3",
        "colab": {
          "base_uri": "https://localhost:8080/"
        },
        "outputId": "645d3217-e95c-43d8-f41d-052752218578"
      },
      "execution_count": null,
      "outputs": [
        {
          "output_type": "execute_result",
          "data": {
            "text/plain": [
              "False"
            ]
          },
          "metadata": {},
          "execution_count": 45
        }
      ]
    },
    {
      "cell_type": "code",
      "source": [
        "income >= 80000 and income <= 100000"
      ],
      "metadata": {
        "colab": {
          "base_uri": "https://localhost:8080/"
        },
        "id": "qYFpEMlB9RK_",
        "outputId": "72e44822-3204-4931-f841-a5bba7e98ea4"
      },
      "execution_count": null,
      "outputs": [
        {
          "output_type": "execute_result",
          "data": {
            "text/plain": [
              "True"
            ]
          },
          "metadata": {},
          "execution_count": 46
        }
      ]
    },
    {
      "cell_type": "code",
      "source": [
        "income != 100000"
      ],
      "metadata": {
        "colab": {
          "base_uri": "https://localhost:8080/"
        },
        "id": "A4u1x8ax9dAX",
        "outputId": "c8065b5c-5143-463e-a8c5-e8591464e1ff"
      },
      "execution_count": null,
      "outputs": [
        {
          "output_type": "execute_result",
          "data": {
            "text/plain": [
              "True"
            ]
          },
          "metadata": {},
          "execution_count": 47
        }
      ]
    },
    {
      "cell_type": "code",
      "source": [
        "6 == 6.0"
      ],
      "metadata": {
        "colab": {
          "base_uri": "https://localhost:8080/"
        },
        "id": "sW5dKQBa9fib",
        "outputId": "3fbeee6f-8f45-48a7-835b-19d41f19fbd2"
      },
      "execution_count": null,
      "outputs": [
        {
          "output_type": "execute_result",
          "data": {
            "text/plain": [
              "True"
            ]
          },
          "metadata": {},
          "execution_count": 48
        }
      ]
    },
    {
      "cell_type": "code",
      "source": [
        "age=29"
      ],
      "metadata": {
        "id": "Lk5E_Y_J9mAD"
      },
      "execution_count": null,
      "outputs": []
    },
    {
      "cell_type": "code",
      "source": [
        "(20 <= age < 30) or (30 <= age < 40)"
      ],
      "metadata": {
        "colab": {
          "base_uri": "https://localhost:8080/"
        },
        "id": "kKTolkND9ous",
        "outputId": "db2f285d-2b87-47eb-9ffa-23f5930cd620"
      },
      "execution_count": null,
      "outputs": [
        {
          "output_type": "execute_result",
          "data": {
            "text/plain": [
              "True"
            ]
          },
          "metadata": {},
          "execution_count": 50
        }
      ]
    },
    {
      "cell_type": "markdown",
      "source": [
        "Exercise 15"
      ],
      "metadata": {
        "id": "tE8K58MO9wLH"
      }
    },
    {
      "cell_type": "code",
      "source": [
        "'a' < 'c'"
      ],
      "metadata": {
        "colab": {
          "base_uri": "https://localhost:8080/"
        },
        "id": "TbclB-Xd9qlP",
        "outputId": "c582da18-56bc-4126-84cb-c7e969f5c224"
      },
      "execution_count": null,
      "outputs": [
        {
          "output_type": "execute_result",
          "data": {
            "text/plain": [
              "True"
            ]
          },
          "metadata": {},
          "execution_count": 51
        }
      ]
    },
    {
      "cell_type": "code",
      "source": [
        "'New York' > 'San Francisco'"
      ],
      "metadata": {
        "colab": {
          "base_uri": "https://localhost:8080/"
        },
        "id": "i6Evdmvj90Ne",
        "outputId": "c1a9db6d-d0e3-43e0-88a2-4d58a6041fe0"
      },
      "execution_count": null,
      "outputs": [
        {
          "output_type": "execute_result",
          "data": {
            "text/plain": [
              "False"
            ]
          },
          "metadata": {},
          "execution_count": 52
        }
      ]
    },
    {
      "cell_type": "markdown",
      "source": [
        "Exercise 16, 17 and 20\n"
      ],
      "metadata": {
        "id": "ZFV3pI-F96O6"
      }
    },
    {
      "cell_type": "code",
      "source": [
        "age = 20\n",
        "if age >= 18 and age < 21:\n",
        "     print('At least you can vote.')\n",
        "\n"
      ],
      "metadata": {
        "colab": {
          "base_uri": "https://localhost:8080/"
        },
        "id": "97GTgz1M92qU",
        "outputId": "0d1d38a8-f65e-4a07-952d-82c81defda47"
      },
      "execution_count": null,
      "outputs": [
        {
          "output_type": "stream",
          "name": "stdout",
          "text": [
            "At least you can vote.\n"
          ]
        }
      ]
    },
    {
      "cell_type": "code",
      "source": [
        "print('US Poker will have to wait.')"
      ],
      "metadata": {
        "colab": {
          "base_uri": "https://localhost:8080/"
        },
        "id": "xBm9tXwB-IYU",
        "outputId": "90a47515-3791-4212-c68f-3aefc80754d2"
      },
      "execution_count": null,
      "outputs": [
        {
          "output_type": "stream",
          "name": "stdout",
          "text": [
            "US Poker will have to wait.\n"
          ]
        }
      ]
    },
    {
      "cell_type": "code",
      "source": [
        "if age >= 18:\n",
        "    print('You can vote.')\n",
        "    if age >= 21:\n",
        "        print('You can play poker.')"
      ],
      "metadata": {
        "colab": {
          "base_uri": "https://localhost:8080/"
        },
        "id": "HG9mwodV-ZUP",
        "outputId": "a5ac0f87-5022-4216-baeb-a1774d34d079"
      },
      "execution_count": 81,
      "outputs": [
        {
          "output_type": "stream",
          "name": "stdout",
          "text": [
            "You can vote.\n"
          ]
        }
      ]
    },
    {
      "cell_type": "code",
      "source": [
        "age = 20\n",
        "if age < 18:\n",
        "    print('You aren\\'t old enough to vote.')\n",
        "else:\n",
        "    print('Welcome to our voting program.')"
      ],
      "metadata": {
        "colab": {
          "base_uri": "https://localhost:8080/"
        },
        "id": "glrxqEfP_5zh",
        "outputId": "d343e4ea-35a5-4d99-e437-ba41bf0aaa89"
      },
      "execution_count": 82,
      "outputs": [
        {
          "output_type": "stream",
          "name": "stdout",
          "text": [
            "Welcome to our voting program.\n"
          ]
        }
      ]
    },
    {
      "cell_type": "code",
      "source": [
        "if age >= 18:\n",
        "    print('Welcome to our voting program.')\n",
        "else:\n",
        "    print('You aren\\'t old enough to vote.')"
      ],
      "metadata": {
        "colab": {
          "base_uri": "https://localhost:8080/"
        },
        "id": "xQ4YNFqb_8LG",
        "outputId": "6b03b9a5-5a2a-4e84-a55d-bc46a3f5e362"
      },
      "execution_count": 83,
      "outputs": [
        {
          "output_type": "stream",
          "name": "stdout",
          "text": [
            "Welcome to our voting program.\n"
          ]
        }
      ]
    },
    {
      "cell_type": "code",
      "source": [
        "print('Enter a number to see if it\\'s a perfect square.')"
      ],
      "metadata": {
        "id": "N6ViPh-EAdcR",
        "colab": {
          "base_uri": "https://localhost:8080/"
        },
        "outputId": "b4c7891e-1900-4bb5-af55-8817a8656ac6"
      },
      "execution_count": 84,
      "outputs": [
        {
          "output_type": "stream",
          "name": "stdout",
          "text": [
            "Enter a number to see if it's a perfect square.\n"
          ]
        }
      ]
    },
    {
      "cell_type": "code",
      "source": [
        "number = input()"
      ],
      "metadata": {
        "colab": {
          "base_uri": "https://localhost:8080/"
        },
        "id": "JAroZtZmD5Mq",
        "outputId": "840ad0e8-28d7-459e-b6a0-c1b71bf1ed69"
      },
      "execution_count": 87,
      "outputs": [
        {
          "name": "stdout",
          "output_type": "stream",
          "text": [
            "9\n"
          ]
        }
      ]
    },
    {
      "cell_type": "code",
      "source": [
        "number = abs(int(number))"
      ],
      "metadata": {
        "id": "ZXBVkZAHD9vk"
      },
      "execution_count": 88,
      "outputs": []
    },
    {
      "cell_type": "code",
      "source": [
        "i = -1"
      ],
      "metadata": {
        "id": "91aPgJlSEJx-"
      },
      "execution_count": 89,
      "outputs": []
    },
    {
      "cell_type": "code",
      "source": [
        "square = False"
      ],
      "metadata": {
        "id": "GsodIeEcELjm"
      },
      "execution_count": 90,
      "outputs": []
    },
    {
      "cell_type": "code",
      "source": [
        "while number >= 0 and number%1 ==0 and i <= number**(0.5) :\n",
        "    i += 1\n",
        "    if i*i == number:\n",
        "        square = True\n",
        "        break\n",
        "if square:\n",
        "    print('The square root of', number, 'is', i, '.')\n",
        "else:\n",
        "    print('', number, 'is not a perfect square.')"
      ],
      "metadata": {
        "colab": {
          "base_uri": "https://localhost:8080/"
        },
        "id": "01k-w1aXENrj",
        "outputId": "b8855b7b-f7b4-4f9a-e89c-1bd2224b84e0"
      },
      "execution_count": 92,
      "outputs": [
        {
          "output_type": "stream",
          "name": "stdout",
          "text": [
            "The square root of 9 is 3 .\n"
          ]
        }
      ]
    },
    {
      "cell_type": "code",
      "source": [
        "print('A one bedroom in the Bay Area is listed at $599,000')\n",
        "print('Enter your first offer on the house.')\n",
        "offer = abs(int(input()))\n",
        "print('Enter your best offer on the house.')\n",
        "best = abs(int(input()))\n",
        "print('How much more do you want to offer each time?')\n",
        "increment = abs(int(input()))\n",
        "offer_accepted = False\n",
        "while offer <= best:\n",
        "    if offer >= 650000:\n",
        "        offer_accepted = True\n",
        "        print('Your offer of', offer, 'has been accepted!')\n",
        "        break\n",
        "    print('We\\'re sorry, you\\'re offer of', offer, 'has not been accepted.' )\n",
        "    offer += increment\n",
        ""
      ],
      "metadata": {
        "colab": {
          "base_uri": "https://localhost:8080/"
        },
        "id": "n0FSbKlGEQgy",
        "outputId": "9df9a5aa-99e5-4b57-ee08-2285caa7d2e2"
      },
      "execution_count": 94,
      "outputs": [
        {
          "output_type": "stream",
          "name": "stdout",
          "text": [
            "A one bedroom in the Bay Area is listed at $599,000\n",
            "Enter your first offer on the house.\n",
            "600000\n",
            "Enter your best offer on the house.\n",
            "650001\n",
            "How much more do you want to offer each time?\n",
            "10990\n",
            "We're sorry, you're offer of 600000 has not been accepted.\n",
            "We're sorry, you're offer of 610990 has not been accepted.\n",
            "We're sorry, you're offer of 621980 has not been accepted.\n",
            "We're sorry, you're offer of 632970 has not been accepted.\n",
            "We're sorry, you're offer of 643960 has not been accepted.\n"
          ]
        }
      ]
    },
    {
      "cell_type": "code",
      "source": [
        "for i in 'Portland':\n",
        "    print(i)"
      ],
      "metadata": {
        "colab": {
          "base_uri": "https://localhost:8080/"
        },
        "id": "v8eo3zWBEaom",
        "outputId": "1ee9cbbe-fec0-4025-874a-941c47941130"
      },
      "execution_count": 95,
      "outputs": [
        {
          "output_type": "stream",
          "name": "stdout",
          "text": [
            "P\n",
            "o\n",
            "r\n",
            "t\n",
            "l\n",
            "a\n",
            "n\n",
            "d\n"
          ]
        }
      ]
    },
    {
      "cell_type": "code",
      "source": [
        "for i in range(1,10):\n",
        "    print(i)"
      ],
      "metadata": {
        "colab": {
          "base_uri": "https://localhost:8080/"
        },
        "id": "7gw6wrGyExb-",
        "outputId": "da6433c3-3ea6-4ce0-c80b-fb4bbf55f2bb"
      },
      "execution_count": 96,
      "outputs": [
        {
          "output_type": "stream",
          "name": "stdout",
          "text": [
            "1\n",
            "2\n",
            "3\n",
            "4\n",
            "5\n",
            "6\n",
            "7\n",
            "8\n",
            "9\n"
          ]
        }
      ]
    },
    {
      "cell_type": "code",
      "source": [
        "for i in range(10):\n",
        "    print(i)"
      ],
      "metadata": {
        "colab": {
          "base_uri": "https://localhost:8080/"
        },
        "id": "SIIAIz_yM9fz",
        "outputId": "1aa2ed79-c63e-4ba2-e718-cd19186bdbd4"
      },
      "execution_count": 97,
      "outputs": [
        {
          "output_type": "stream",
          "name": "stdout",
          "text": [
            "0\n",
            "1\n",
            "2\n",
            "3\n",
            "4\n",
            "5\n",
            "6\n",
            "7\n",
            "8\n",
            "9\n"
          ]
        }
      ]
    },
    {
      "cell_type": "code",
      "source": [
        "for i in range(1, 11, 2):\n",
        "    print(i)"
      ],
      "metadata": {
        "colab": {
          "base_uri": "https://localhost:8080/"
        },
        "id": "q1tg9SD8NBGf",
        "outputId": "58414207-b303-40a3-edd8-3cfa9eaff2c7"
      },
      "execution_count": 98,
      "outputs": [
        {
          "output_type": "stream",
          "name": "stdout",
          "text": [
            "1\n",
            "3\n",
            "5\n",
            "7\n",
            "9\n"
          ]
        }
      ]
    },
    {
      "cell_type": "code",
      "source": [
        "for i in range(3, 0, -1):\n",
        "    print(i)"
      ],
      "metadata": {
        "colab": {
          "base_uri": "https://localhost:8080/"
        },
        "id": "CwuKxMhFNDXc",
        "outputId": "69f5d4d8-a435-41c1-8be5-1fea4f6604f6"
      },
      "execution_count": 99,
      "outputs": [
        {
          "output_type": "stream",
          "name": "stdout",
          "text": [
            "3\n",
            "2\n",
            "1\n"
          ]
        }
      ]
    },
    {
      "cell_type": "code",
      "source": [
        "name = 'Corey'\n",
        "for j in range(3):\n",
        "    for i in name:\n",
        "        print(i)"
      ],
      "metadata": {
        "colab": {
          "base_uri": "https://localhost:8080/"
        },
        "id": "Er-ZzsETNFhE",
        "outputId": "2625c2a9-7737-484b-cd16-9f8f994e78dd"
      },
      "execution_count": 100,
      "outputs": [
        {
          "output_type": "stream",
          "name": "stdout",
          "text": [
            "C\n",
            "o\n",
            "r\n",
            "e\n",
            "y\n",
            "C\n",
            "o\n",
            "r\n",
            "e\n",
            "y\n",
            "C\n",
            "o\n",
            "r\n",
            "e\n",
            "y\n"
          ]
        }
      ]
    },
    {
      "cell_type": "code",
      "source": [
        "#Activity 1"
      ],
      "metadata": {
        "id": "VFovVStiNH4G"
      },
      "execution_count": 101,
      "outputs": []
    },
    {
      "cell_type": "code",
      "source": [
        "x = 14\n",
        "x += 1\n",
        "(x/5) ** 2"
      ],
      "metadata": {
        "colab": {
          "base_uri": "https://localhost:8080/"
        },
        "id": "1nji_OK8N04t",
        "outputId": "e8b53c25-fb49-4379-9271-5c912eaf2dee"
      },
      "execution_count": 103,
      "outputs": [
        {
          "output_type": "execute_result",
          "data": {
            "text/plain": [
              "9.0"
            ]
          },
          "metadata": {},
          "execution_count": 103
        }
      ]
    },
    {
      "cell_type": "code",
      "source": [
        "#Activity 2"
      ],
      "metadata": {
        "id": "Gig5bUFDN10n"
      },
      "execution_count": 112,
      "outputs": []
    },
    {
      "cell_type": "code",
      "source": [
        "# Initialize variables\n",
        "x, y, z = 2, 3, 4\n",
        "\n",
        ""
      ],
      "metadata": {
        "id": "7gg7G3dvONw9"
      },
      "execution_count": 113,
      "outputs": []
    },
    {
      "cell_type": "code",
      "source": [
        "# Pythagorean Theorem in 3 dimensions\n",
        "w_squared = x**2 + y**2 + z**2"
      ],
      "metadata": {
        "id": "Vdkewz9qOepD"
      },
      "execution_count": 114,
      "outputs": []
    },
    {
      "cell_type": "code",
      "source": [
        "# The square root gives the distance\n",
        "w = w_squared ** 0.5\n"
      ],
      "metadata": {
        "id": "dWG2rOC9OWND"
      },
      "execution_count": 115,
      "outputs": []
    },
    {
      "cell_type": "code",
      "source": [
        "#Show the distance\n",
        "w"
      ],
      "metadata": {
        "colab": {
          "base_uri": "https://localhost:8080/"
        },
        "id": "naMB55s6Oan2",
        "outputId": "89c6c7a2-0c71-4b07-fc31-8dc8cd688a1c"
      },
      "execution_count": 116,
      "outputs": [
        {
          "output_type": "execute_result",
          "data": {
            "text/plain": [
              "5.385164807134504"
            ]
          },
          "metadata": {},
          "execution_count": 116
        }
      ]
    },
    {
      "cell_type": "code",
      "source": [
        "#Activity 2"
      ],
      "metadata": {
        "id": "9JKFnf62ObMI"
      },
      "execution_count": 117,
      "outputs": []
    },
    {
      "cell_type": "code",
      "source": [
        "# Choose a question to ask\n",
        "print('How would you rate your day on a scale of 1 to 10?')"
      ],
      "metadata": {
        "colab": {
          "base_uri": "https://localhost:8080/"
        },
        "id": "Oj8SN-yuOrTM",
        "outputId": "9e71a2ad-5e10-4695-8e48-5ffcd6985882"
      },
      "execution_count": 118,
      "outputs": [
        {
          "output_type": "stream",
          "name": "stdout",
          "text": [
            "How would you rate your day on a scale of 1 to 10?\n"
          ]
        }
      ]
    },
    {
      "cell_type": "code",
      "source": [
        "# Set a variable equal to input()\n",
        "day_rating = input()"
      ],
      "metadata": {
        "colab": {
          "base_uri": "https://localhost:8080/"
        },
        "id": "jdAhBRWxOsNS",
        "outputId": "bae405fb-16bc-434f-b7be-a5a2f78162b9"
      },
      "execution_count": 119,
      "outputs": [
        {
          "name": "stdout",
          "output_type": "stream",
          "text": [
            "64\n"
          ]
        }
      ]
    },
    {
      "cell_type": "code",
      "source": [
        "# Select an appropriate output.\n",
        "print('You feel like a ' + day_rating + ' today. Thanks for letting me know')"
      ],
      "metadata": {
        "colab": {
          "base_uri": "https://localhost:8080/"
        },
        "id": "pz7yaUAdOvBI",
        "outputId": "4bd6a5be-3862-4c8b-89bc-70a77944c0fd"
      },
      "execution_count": 120,
      "outputs": [
        {
          "output_type": "stream",
          "name": "stdout",
          "text": [
            "You feel like a 64 today. Thanks for letting me know\n"
          ]
        }
      ]
    },
    {
      "cell_type": "code",
      "source": [
        "#Activity 4"
      ],
      "metadata": {
        "id": "bv3pNPc3O1r6"
      },
      "execution_count": 121,
      "outputs": []
    },
    {
      "cell_type": "code",
      "source": [
        "# Find the Least Common Multiple of Two Divisors\n",
        "counting = True\n",
        "first_divisor = 24\n",
        "second_divisor = 36\n",
        "i = 1\n",
        "while counting:\n",
        "    if i % first_divisor == 0 and i % second_divisor == 0:\n",
        "        print('The Least Common Multiple of', first_divisor, 'and', second_divisor, 'is', i, '.')\n",
        "        break\n",
        "    i += 1"
      ],
      "metadata": {
        "colab": {
          "base_uri": "https://localhost:8080/"
        },
        "id": "0HCDbZELPAar",
        "outputId": "cc0426c3-e9c4-476c-b816-f7f6673baf85"
      },
      "execution_count": 123,
      "outputs": [
        {
          "output_type": "stream",
          "name": "stdout",
          "text": [
            "The Least Common Multiple of 24 and 36 is 72 .\n"
          ]
        }
      ]
    },
    {
      "cell_type": "code",
      "source": [
        "# Activity 5"
      ],
      "metadata": {
        "id": "yPz_TVLJPBML"
      },
      "execution_count": 124,
      "outputs": []
    },
    {
      "cell_type": "code",
      "source": [
        "print('What is your name?')"
      ],
      "metadata": {
        "colab": {
          "base_uri": "https://localhost:8080/"
        },
        "id": "zKGDDLoGPJMl",
        "outputId": "79220736-581b-4182-8857-491d9daa8b09"
      },
      "execution_count": 125,
      "outputs": [
        {
          "output_type": "stream",
          "name": "stdout",
          "text": [
            "What is your name?\n"
          ]
        }
      ]
    },
    {
      "cell_type": "code",
      "source": [
        "name = input()\n",
        "print('Fascinating.', name, 'is my name too.')"
      ],
      "metadata": {
        "colab": {
          "base_uri": "https://localhost:8080/"
        },
        "id": "Gnn0YmuPPJpa",
        "outputId": "1d917154-8588-4008-d56c-27ad7f7e3fc0"
      },
      "execution_count": 126,
      "outputs": [
        {
          "output_type": "stream",
          "name": "stdout",
          "text": [
            "SAM\n",
            "Fascinating. SAM is my name too.\n"
          ]
        }
      ]
    },
    {
      "cell_type": "code",
      "source": [
        "print('Have you thought about black holes today?')"
      ],
      "metadata": {
        "colab": {
          "base_uri": "https://localhost:8080/"
        },
        "id": "q0WroifiPTEn",
        "outputId": "52ce88b3-481e-4d93-844b-b584b01ac234"
      },
      "execution_count": 127,
      "outputs": [
        {
          "output_type": "stream",
          "name": "stdout",
          "text": [
            "Have you thought about black holes today?\n"
          ]
        }
      ]
    },
    {
      "cell_type": "code",
      "source": [
        "yes_no = input()\n",
        "print('I am so glad you said', yes_no, '. I was thinking the same thing.')"
      ],
      "metadata": {
        "colab": {
          "base_uri": "https://localhost:8080/"
        },
        "id": "4QyToZMYPaDO",
        "outputId": "918ca61b-1aa0-48b3-d2d5-a7e465534782"
      },
      "execution_count": 129,
      "outputs": [
        {
          "output_type": "stream",
          "name": "stdout",
          "text": [
            "NO\n",
            "I am so glad you said NO . I was thinking the same thing.\n"
          ]
        }
      ]
    },
    {
      "cell_type": "code",
      "source": [
        "print('We\\'re kindred spirits,', name, '. Talk later.')"
      ],
      "metadata": {
        "colab": {
          "base_uri": "https://localhost:8080/"
        },
        "id": "XLb00UeMPctR",
        "outputId": "d56929a2-1750-455c-e114-c28e34aa28ea"
      },
      "execution_count": 130,
      "outputs": [
        {
          "output_type": "stream",
          "name": "stdout",
          "text": [
            "We're kindred spirits, SAM . Talk later.\n"
          ]
        }
      ]
    },
    {
      "cell_type": "code",
      "source": [
        "print('How intelligent are you? 0 is very dumb. And 10 is a genius')\n",
        "smarts = input()\n",
        "smarts = int(smarts)\n",
        "if smarts <= 3:\n",
        "   print('I don\\'t believe you.')\n",
        "   print('How bad of a day are you having? 0 is the worst, and 10 is the best.')\n",
        "   day = input()\n",
        "   day = int(day)\n",
        "   if day <= 5:\n",
        "       print('If I was human, I would give you a hug.')\n",
        "   else:\n",
        "       print('Maybe I should try your approach.')\n",
        "elif smarts <= 6:\n",
        "   print('I think you\\'re actually smarter.')\n",
        "   print('How much time do you spend online? 0 is none and 10 is 24 hours a day.')\n",
        "   hours = input()\n",
        "   hours = int(hours)\n",
        "   if hours <= 4:\n",
        "       print('That\\'s the problem.')\n",
        "   else:\n",
        "      print('And I thought it was only me.')\n",
        "elif smarts <= 8:\n",
        "   print('Are you human by chance? Wait. Don\\'t answer that.')\n",
        "   print('How human are you? 0 is not at all and 10 is human all the way.')\n",
        "   human = input()\n",
        "   human = int(human)\n",
        "   if human <= 5:\n",
        "       print('I knew it.')\n",
        "   else:\n",
        "       print('I think this courtship is over.')\n",
        "else:\n",
        "   print('I see... How many operating systems do you run?')\n",
        "   os = input()\n",
        "   os = int(os)\n",
        "   if os <= 2:\n",
        "      print('Good thing you\\'re taking this course.')\n",
        "   else:\n",
        "      print('What is this? A competition?')"
      ],
      "metadata": {
        "colab": {
          "base_uri": "https://localhost:8080/"
        },
        "id": "bHrVUUVTPkpF",
        "outputId": "d08e32f8-b458-42c2-d9cf-d15562c700c7"
      },
      "execution_count": 131,
      "outputs": [
        {
          "output_type": "stream",
          "name": "stdout",
          "text": [
            "How intelligent are you? 0 is very dumb. And 10 is a genius\n",
            "9\n",
            "I see... How many operating systems do you run?\n",
            "7\n",
            "What is this? A competition?\n"
          ]
        }
      ]
    },
    {
      "cell_type": "markdown",
      "source": [
        "#Chapter 2"
      ],
      "metadata": {
        "id": "PfcfnQL9P8Ek"
      }
    },
    {
      "cell_type": "code",
      "source": [
        "#Activity 6"
      ],
      "metadata": {
        "id": "crPVl7uYP1zJ"
      },
      "execution_count": 134,
      "outputs": []
    },
    {
      "cell_type": "code",
      "source": [
        "employees = [['John Mckee', 38, 'Sales'], ['Lisa Crawford', 29, 'Marketing'], ['Sujan Patel', 33, 'HR']]\n",
        "print(employees)"
      ],
      "metadata": {
        "colab": {
          "base_uri": "https://localhost:8080/"
        },
        "id": "yuTJ4XDjQgFO",
        "outputId": "35641b08-0c50-4720-f923-3df9928f2db2"
      },
      "execution_count": 135,
      "outputs": [
        {
          "output_type": "stream",
          "name": "stdout",
          "text": [
            "[['John Mckee', 38, 'Sales'], ['Lisa Crawford', 29, 'Marketing'], ['Sujan Patel', 33, 'HR']]\n"
          ]
        }
      ]
    },
    {
      "cell_type": "code",
      "source": [
        "for employee in employees:\n",
        "    print(employee)"
      ],
      "metadata": {
        "colab": {
          "base_uri": "https://localhost:8080/"
        },
        "id": "dONUMcLSQjOz",
        "outputId": "49ff6054-51af-43a8-9672-5605b11b5f5f"
      },
      "execution_count": 136,
      "outputs": [
        {
          "output_type": "stream",
          "name": "stdout",
          "text": [
            "['John Mckee', 38, 'Sales']\n",
            "['Lisa Crawford', 29, 'Marketing']\n",
            "['Sujan Patel', 33, 'HR']\n"
          ]
        }
      ]
    },
    {
      "cell_type": "code",
      "source": [
        "for employee in employees:\n",
        "    print(\"Name:\", employee[0])\n",
        "    print(\"Age:\", employee[1])\n",
        "    print(\"Department:\", employee[2])\n",
        "    print('-' * 20)"
      ],
      "metadata": {
        "colab": {
          "base_uri": "https://localhost:8080/"
        },
        "id": "PvbcfIb4QmUy",
        "outputId": "a44a90f6-ce83-41d5-942e-1db2f40ad13e"
      },
      "execution_count": 137,
      "outputs": [
        {
          "output_type": "stream",
          "name": "stdout",
          "text": [
            "Name: John Mckee\n",
            "Age: 38\n",
            "Department: Sales\n",
            "--------------------\n",
            "Name: Lisa Crawford\n",
            "Age: 29\n",
            "Department: Marketing\n",
            "--------------------\n",
            "Name: Sujan Patel\n",
            "Age: 33\n",
            "Department: HR\n",
            "--------------------\n"
          ]
        }
      ]
    },
    {
      "cell_type": "code",
      "source": [
        "employee = employees[1]\n",
        "print(employee)\n",
        "print(\"Name:\", employee[0])\n",
        "print(\"Age:\", employee[1])\n",
        "print(\"Department:\", employee[2])\n",
        "print('-' * 20)"
      ],
      "metadata": {
        "colab": {
          "base_uri": "https://localhost:8080/"
        },
        "id": "3T0XBhBcQonc",
        "outputId": "59b1e48f-dc26-4a06-9a26-f69b37bc6114"
      },
      "execution_count": 138,
      "outputs": [
        {
          "output_type": "stream",
          "name": "stdout",
          "text": [
            "['Lisa Crawford', 29, 'Marketing']\n",
            "Name: Lisa Crawford\n",
            "Age: 29\n",
            "Department: Marketing\n",
            "--------------------\n"
          ]
        }
      ]
    },
    {
      "cell_type": "code",
      "source": [
        "#Activity 7"
      ],
      "metadata": {
        "id": "MrInS_LzRAY6"
      },
      "execution_count": 142,
      "outputs": []
    },
    {
      "cell_type": "code",
      "source": [
        "employees = [\n",
        "    {\"name\": \"John Mckee\", \"age\":38, \"department\":\"Sales\"},\n",
        "    {\"name\": \"Lisa Crawford\", \"age\":29, \"department\":\"Marketing\"},\n",
        "    {\"name\": \"Sujan Patel\", \"age\":33, \"department\":\"HR\"}\n",
        "]\n",
        "\n",
        "print(employees)"
      ],
      "metadata": {
        "colab": {
          "base_uri": "https://localhost:8080/"
        },
        "id": "EaL1Fr45Qru5",
        "outputId": "9d34a462-dcb8-4a68-cb16-608e1aa8d25c"
      },
      "execution_count": 139,
      "outputs": [
        {
          "output_type": "stream",
          "name": "stdout",
          "text": [
            "[{'name': 'John Mckee', 'age': 38, 'department': 'Sales'}, {'name': 'Lisa Crawford', 'age': 29, 'department': 'Marketing'}, {'name': 'Sujan Patel', 'age': 33, 'department': 'HR'}]\n"
          ]
        }
      ]
    },
    {
      "cell_type": "code",
      "source": [
        "for employee in employees:\n",
        "    print(\"Name:\", employee['name'])\n",
        "    print(\"Age:\", employee['age'])\n",
        "    print(\"Department:\", employee['department'])\n",
        "    print('-' * 20)"
      ],
      "metadata": {
        "colab": {
          "base_uri": "https://localhost:8080/"
        },
        "id": "jHD9TJ8WQwzn",
        "outputId": "304e794b-db41-4697-a49a-a2ef53e94c3c"
      },
      "execution_count": 140,
      "outputs": [
        {
          "output_type": "stream",
          "name": "stdout",
          "text": [
            "Name: John Mckee\n",
            "Age: 38\n",
            "Department: Sales\n",
            "--------------------\n",
            "Name: Lisa Crawford\n",
            "Age: 29\n",
            "Department: Marketing\n",
            "--------------------\n",
            "Name: Sujan Patel\n",
            "Age: 33\n",
            "Department: HR\n",
            "--------------------\n"
          ]
        }
      ]
    },
    {
      "cell_type": "code",
      "source": [
        "for employee in employees:\n",
        "    if employee['name'] == 'Sujan Patel':\n",
        "        print(\"Name:\", employee['name'])\n",
        "        print(\"Age:\", employee['age'])\n",
        "        print(\"Department:\", employee['department'])\n",
        "        print('-' * 20)"
      ],
      "metadata": {
        "colab": {
          "base_uri": "https://localhost:8080/"
        },
        "id": "a0n5QSbJQ0nK",
        "outputId": "cb91db4b-162a-473b-f7c1-db09b4369cd1"
      },
      "execution_count": 141,
      "outputs": [
        {
          "output_type": "stream",
          "name": "stdout",
          "text": [
            "Name: Sujan Patel\n",
            "Age: 33\n",
            "Department: HR\n",
            "--------------------\n"
          ]
        }
      ]
    },
    {
      "cell_type": "code",
      "source": [
        "#Excercise 21 to 32"
      ],
      "metadata": {
        "id": "F7F4FUyXRQ2D"
      },
      "execution_count": 147,
      "outputs": []
    },
    {
      "cell_type": "code",
      "source": [
        "shopping = [\"bread\", \"milk\", \"eggs\"]\n",
        "print(shopping)"
      ],
      "metadata": {
        "colab": {
          "base_uri": "https://localhost:8080/"
        },
        "id": "eTdn8LaYQ4Gx",
        "outputId": "68c8a869-990f-4235-f6b1-d7c5e7045181"
      },
      "execution_count": 143,
      "outputs": [
        {
          "output_type": "stream",
          "name": "stdout",
          "text": [
            "['bread', 'milk', 'eggs']\n"
          ]
        }
      ]
    },
    {
      "cell_type": "code",
      "source": [
        "for item in shopping:\n",
        "    print(item)"
      ],
      "metadata": {
        "colab": {
          "base_uri": "https://localhost:8080/"
        },
        "id": "OjnJZ9xuRH4b",
        "outputId": "bc739482-d748-400c-97f0-ace5f4875b75"
      },
      "execution_count": 144,
      "outputs": [
        {
          "output_type": "stream",
          "name": "stdout",
          "text": [
            "bread\n",
            "milk\n",
            "eggs\n"
          ]
        }
      ]
    },
    {
      "cell_type": "code",
      "source": [
        "mixed = [365, \"days\", True]\n",
        "print(mixed)"
      ],
      "metadata": {
        "colab": {
          "base_uri": "https://localhost:8080/"
        },
        "id": "zWL6cNnlRKNV",
        "outputId": "e13fd670-b4bb-466e-a31f-f371acb42111"
      },
      "execution_count": 145,
      "outputs": [
        {
          "output_type": "stream",
          "name": "stdout",
          "text": [
            "[365, 'days', True]\n"
          ]
        }
      ]
    },
    {
      "cell_type": "code",
      "source": [
        "print(mixed[0])"
      ],
      "metadata": {
        "colab": {
          "base_uri": "https://localhost:8080/"
        },
        "id": "3Tdm0WmHROyd",
        "outputId": "4e2d075e-ae22-41e0-cfdf-c6f1a26774d1"
      },
      "execution_count": 148,
      "outputs": [
        {
          "output_type": "stream",
          "name": "stdout",
          "text": [
            "365\n"
          ]
        }
      ]
    },
    {
      "cell_type": "code",
      "source": [
        "\n",
        "print(mixed[0:3])"
      ],
      "metadata": {
        "colab": {
          "base_uri": "https://localhost:8080/"
        },
        "id": "TJmbsMYARe7A",
        "outputId": "55be55cf-daa3-40a2-d50b-b887afcba5b2"
      },
      "execution_count": 149,
      "outputs": [
        {
          "output_type": "stream",
          "name": "stdout",
          "text": [
            "[365, 'days', True]\n"
          ]
        }
      ]
    },
    {
      "cell_type": "code",
      "source": [
        "m = [[1, 2, 3], [4, 5, 6]]"
      ],
      "metadata": {
        "id": "qoKmKLvfRhZc"
      },
      "execution_count": 150,
      "outputs": []
    },
    {
      "cell_type": "code",
      "source": [
        "print(m[1][1])"
      ],
      "metadata": {
        "colab": {
          "base_uri": "https://localhost:8080/"
        },
        "id": "vVFTH8nURnrP",
        "outputId": "91772ede-7be4-4d69-dd1f-0dddc19fd83c"
      },
      "execution_count": 151,
      "outputs": [
        {
          "output_type": "stream",
          "name": "stdout",
          "text": [
            "5\n"
          ]
        }
      ]
    },
    {
      "cell_type": "code",
      "source": [
        "for i in range(len(m)):\n",
        "    for j in range(len(m[i])):\n",
        "        print(m[i][j])"
      ],
      "metadata": {
        "colab": {
          "base_uri": "https://localhost:8080/"
        },
        "id": "uQ7fyQjdRp0K",
        "outputId": "40eb5d23-a8b5-4245-ae89-75a438ac843c"
      },
      "execution_count": 152,
      "outputs": [
        {
          "output_type": "stream",
          "name": "stdout",
          "text": [
            "1\n",
            "2\n",
            "3\n",
            "4\n",
            "5\n",
            "6\n"
          ]
        }
      ]
    },
    {
      "cell_type": "code",
      "source": [
        "for row in m:\n",
        "    for col in row:\n",
        "        print(col)"
      ],
      "metadata": {
        "colab": {
          "base_uri": "https://localhost:8080/"
        },
        "id": "uo8SPAC4RryJ",
        "outputId": "79342e7d-88b1-4f34-ede6-8345afa3ac3d"
      },
      "execution_count": 153,
      "outputs": [
        {
          "output_type": "stream",
          "name": "stdout",
          "text": [
            "1\n",
            "2\n",
            "3\n",
            "4\n",
            "5\n",
            "6\n"
          ]
        }
      ]
    },
    {
      "cell_type": "code",
      "source": [
        "X = [[1,2,3],[4,5,6],[7,8,9]]\n",
        "Y = [[10,11,12],[13,14,15],[16,17,18]]"
      ],
      "metadata": {
        "id": "ijpntXzDRu25"
      },
      "execution_count": 154,
      "outputs": []
    },
    {
      "cell_type": "code",
      "source": [
        "# Initialize a result placeholder\n",
        "result = [[0,0,0],\n",
        "        [0,0,0],\n",
        "        [0,0,0]]"
      ],
      "metadata": {
        "id": "n3AtH5gXR0Fp"
      },
      "execution_count": 155,
      "outputs": []
    },
    {
      "cell_type": "code",
      "source": [
        "# iterate through rows\n",
        "for i in range(len(X)):\n",
        "# iterate through columns\n",
        "    for j in range(len(X[0])):\n",
        "        result[i][j] = X[i][j] + Y[i][j]\n",
        "\n",
        "print(result)"
      ],
      "metadata": {
        "colab": {
          "base_uri": "https://localhost:8080/"
        },
        "id": "nPUlf519R4ba",
        "outputId": "a487b891-956c-441a-e1ec-854595d47a73"
      },
      "execution_count": 156,
      "outputs": [
        {
          "output_type": "stream",
          "name": "stdout",
          "text": [
            "[[11, 13, 15], [17, 19, 21], [23, 25, 27]]\n"
          ]
        }
      ]
    },
    {
      "cell_type": "code",
      "source": [
        "X = [[10,11,12],[13,14,15],[16,17,18]]\n",
        "Y = [[1,2,3],[4,5,6],[7,8,9]]"
      ],
      "metadata": {
        "id": "z57m_1zSR7Pe"
      },
      "execution_count": 157,
      "outputs": []
    },
    {
      "cell_type": "code",
      "source": [
        "# Initialize a result placeholder\n",
        "result = [[0,0,0],\n",
        "        [0,0,0],\n",
        "        [0,0,0]]"
      ],
      "metadata": {
        "id": "OZ8u3h0rR-eG"
      },
      "execution_count": 158,
      "outputs": []
    },
    {
      "cell_type": "code",
      "source": [
        "# iterate through rows\n",
        "for i in range(len(X)):\n",
        "# iterate through columns\n",
        "    for j in range(len(X[0])):\n",
        "        result[i][j] = X[i][j] - Y[i][j]\n",
        "\n",
        "print(result)"
      ],
      "metadata": {
        "colab": {
          "base_uri": "https://localhost:8080/"
        },
        "id": "tvThsyHuSAy_",
        "outputId": "cd2a4430-8a3e-42cc-8206-d9a27fb022a5"
      },
      "execution_count": 159,
      "outputs": [
        {
          "output_type": "stream",
          "name": "stdout",
          "text": [
            "[[9, 9, 9], [9, 9, 9], [9, 9, 9]]\n"
          ]
        }
      ]
    },
    {
      "cell_type": "code",
      "source": [
        "X = [[1, 2], [4, 5], [3, 6]]\n",
        "Y = [[1,2,3,4],[5,6,7,8]]"
      ],
      "metadata": {
        "id": "HaF3AftOSDJ1"
      },
      "execution_count": 160,
      "outputs": []
    },
    {
      "cell_type": "code",
      "source": [
        "result = [[0, 0, 0, 0], [0, 0, 0, 0], [0, 0, 0, 0]]"
      ],
      "metadata": {
        "id": "YcVdTubzSHyI"
      },
      "execution_count": 161,
      "outputs": []
    },
    {
      "cell_type": "code",
      "source": [
        "# iterating by row of X\n",
        "for i in range(len(X)):\n",
        "\n",
        "    # iterating by coloum by Y\n",
        "    for j in range(len(Y[0])):\n",
        "\n",
        "        # iterating by rows of Y\n",
        "        for k in range(len(Y)):\n",
        "            result[i][j] += X[i][k] * Y[k][j]"
      ],
      "metadata": {
        "id": "3GzGvdt6SJ9E"
      },
      "execution_count": 162,
      "outputs": []
    },
    {
      "cell_type": "code",
      "source": [
        "for r in result:\n",
        "    print(r)"
      ],
      "metadata": {
        "colab": {
          "base_uri": "https://localhost:8080/"
        },
        "id": "yFgbdHc0SMCQ",
        "outputId": "214633aa-0ac4-49b9-afc4-b3864b87e5ab"
      },
      "execution_count": 163,
      "outputs": [
        {
          "output_type": "stream",
          "name": "stdout",
          "text": [
            "[11, 14, 17, 20]\n",
            "[29, 38, 47, 56]\n",
            "[33, 42, 51, 60]\n"
          ]
        }
      ]
    },
    {
      "cell_type": "code",
      "source": [
        "shopping = [\"bread\",\"milk\", \"eggs\"]\n",
        "print(len(shopping))"
      ],
      "metadata": {
        "colab": {
          "base_uri": "https://localhost:8080/"
        },
        "id": "e4XyBWrQSOTu",
        "outputId": "e6eef7fc-660b-43f7-e7c4-32e249343276"
      },
      "execution_count": 164,
      "outputs": [
        {
          "output_type": "stream",
          "name": "stdout",
          "text": [
            "3\n"
          ]
        }
      ]
    },
    {
      "cell_type": "code",
      "source": [
        "list1 = [1,2,3]\n",
        "list2 = [4,5,6]\n",
        "final_list = list1 + list2\n",
        "print(final_list)"
      ],
      "metadata": {
        "colab": {
          "base_uri": "https://localhost:8080/"
        },
        "id": "jA5Y6te8SXLv",
        "outputId": "5b5b2997-f5e6-4420-e34d-366d32c6f0f3"
      },
      "execution_count": 165,
      "outputs": [
        {
          "output_type": "stream",
          "name": "stdout",
          "text": [
            "[1, 2, 3, 4, 5, 6]\n"
          ]
        }
      ]
    },
    {
      "cell_type": "code",
      "source": [
        "list3 = ['oi']\n",
        "print(list3*3)"
      ],
      "metadata": {
        "colab": {
          "base_uri": "https://localhost:8080/"
        },
        "id": "79fsn7miSaCk",
        "outputId": "62302f93-21d1-4411-ab86-380e342356bf"
      },
      "execution_count": 166,
      "outputs": [
        {
          "output_type": "stream",
          "name": "stdout",
          "text": [
            "['oi', 'oi', 'oi']\n"
          ]
        }
      ]
    },
    {
      "cell_type": "code",
      "source": [
        "shopping = [\"bread\",\"milk\", \"eggs\"]\n",
        "print(shopping[1])"
      ],
      "metadata": {
        "colab": {
          "base_uri": "https://localhost:8080/"
        },
        "id": "66pgc8GwSdU4",
        "outputId": "6a474d98-aa44-4a71-bed9-fcf827640c51"
      },
      "execution_count": 167,
      "outputs": [
        {
          "output_type": "stream",
          "name": "stdout",
          "text": [
            "milk\n"
          ]
        }
      ]
    },
    {
      "cell_type": "code",
      "source": [
        "shopping[1] = \"banana\"\n",
        "print(shopping)"
      ],
      "metadata": {
        "colab": {
          "base_uri": "https://localhost:8080/"
        },
        "id": "teyDE6slSqpT",
        "outputId": "d8ce7193-2bf4-4fd7-884a-10e265023dea"
      },
      "execution_count": 168,
      "outputs": [
        {
          "output_type": "stream",
          "name": "stdout",
          "text": [
            "['bread', 'banana', 'eggs']\n"
          ]
        }
      ]
    },
    {
      "cell_type": "code",
      "source": [
        "print(shopping[-1])"
      ],
      "metadata": {
        "colab": {
          "base_uri": "https://localhost:8080/"
        },
        "id": "j4VRWyrnStVY",
        "outputId": "4bb6fe4a-64b6-4575-bac6-9cc817156e71"
      },
      "execution_count": 169,
      "outputs": [
        {
          "output_type": "stream",
          "name": "stdout",
          "text": [
            "eggs\n"
          ]
        }
      ]
    },
    {
      "cell_type": "code",
      "source": [
        "print(shopping[0:2])"
      ],
      "metadata": {
        "colab": {
          "base_uri": "https://localhost:8080/"
        },
        "id": "MN-lomqMSvRx",
        "outputId": "24241946-2c50-4c5a-ab0f-5345a252f54c"
      },
      "execution_count": 170,
      "outputs": [
        {
          "output_type": "stream",
          "name": "stdout",
          "text": [
            "['bread', 'banana']\n"
          ]
        }
      ]
    },
    {
      "cell_type": "code",
      "source": [
        "print(shopping[:3])"
      ],
      "metadata": {
        "colab": {
          "base_uri": "https://localhost:8080/"
        },
        "id": "Yviy_21PSwz_",
        "outputId": "091decb2-81f6-4962-ff27-340930155a71"
      },
      "execution_count": 171,
      "outputs": [
        {
          "output_type": "stream",
          "name": "stdout",
          "text": [
            "['bread', 'banana', 'eggs']\n"
          ]
        }
      ]
    },
    {
      "cell_type": "code",
      "source": [
        "print(shopping[1:])"
      ],
      "metadata": {
        "colab": {
          "base_uri": "https://localhost:8080/"
        },
        "id": "BtTup_wdSyy2",
        "outputId": "d38bd574-df86-4042-ed0c-9e41994bd300"
      },
      "execution_count": 172,
      "outputs": [
        {
          "output_type": "stream",
          "name": "stdout",
          "text": [
            "['banana', 'eggs']\n"
          ]
        }
      ]
    },
    {
      "cell_type": "code",
      "source": [
        "shopping = [\"bread\",\"milk\", \"eggs\"]\n",
        "shopping.append(\"apple\")\n",
        "print(shopping)"
      ],
      "metadata": {
        "colab": {
          "base_uri": "https://localhost:8080/"
        },
        "id": "hcrroMSFS1bG",
        "outputId": "007b4f7f-467d-42ce-f0ed-1d22ecb76715"
      },
      "execution_count": 173,
      "outputs": [
        {
          "output_type": "stream",
          "name": "stdout",
          "text": [
            "['bread', 'milk', 'eggs', 'apple']\n"
          ]
        }
      ]
    },
    {
      "cell_type": "code",
      "source": [
        "shopping = []\n",
        "shopping.append('bread')\n",
        "shopping.append('milk')\n",
        "shopping.append('eggs')\n",
        "shopping.append('apple')\n",
        "print(shopping)"
      ],
      "metadata": {
        "colab": {
          "base_uri": "https://localhost:8080/"
        },
        "id": "-pScBXvTS8eG",
        "outputId": "01ae675c-a20c-4bf9-980b-bf7771d1bcd0"
      },
      "execution_count": 174,
      "outputs": [
        {
          "output_type": "stream",
          "name": "stdout",
          "text": [
            "['bread', 'milk', 'eggs', 'apple']\n"
          ]
        }
      ]
    },
    {
      "cell_type": "code",
      "source": [
        "shopping.insert(2, 'ham')\n",
        "print(shopping)"
      ],
      "metadata": {
        "colab": {
          "base_uri": "https://localhost:8080/"
        },
        "id": "TtniS0fUS_Va",
        "outputId": "e04d270e-cfb9-403c-857b-fc4cd9e8a556"
      },
      "execution_count": 175,
      "outputs": [
        {
          "output_type": "stream",
          "name": "stdout",
          "text": [
            "['bread', 'milk', 'ham', 'eggs', 'apple']\n"
          ]
        }
      ]
    },
    {
      "cell_type": "code",
      "source": [
        "new_shopping = ['coffee', 'orange']\n",
        "shopping.extend(new_shopping)\n",
        "print(shopping)"
      ],
      "metadata": {
        "colab": {
          "base_uri": "https://localhost:8080/"
        },
        "id": "p4I_QZPCTCuA",
        "outputId": "921ff384-8784-410b-ea4e-ef457ba6e147"
      },
      "execution_count": 176,
      "outputs": [
        {
          "output_type": "stream",
          "name": "stdout",
          "text": [
            "['bread', 'milk', 'ham', 'eggs', 'apple', 'coffee', 'orange']\n"
          ]
        }
      ]
    },
    {
      "cell_type": "code",
      "source": [
        "shopping.remove('ham')\n",
        "print(shopping)"
      ],
      "metadata": {
        "colab": {
          "base_uri": "https://localhost:8080/"
        },
        "id": "wXy-9VUgTFJn",
        "outputId": "1ab4e5f5-148a-44d7-996b-5cd4bf672895"
      },
      "execution_count": 177,
      "outputs": [
        {
          "output_type": "stream",
          "name": "stdout",
          "text": [
            "['bread', 'milk', 'eggs', 'apple', 'coffee', 'orange']\n"
          ]
        }
      ]
    },
    {
      "cell_type": "code",
      "source": [
        "shopping.pop(2)\n",
        "print(shopping)"
      ],
      "metadata": {
        "colab": {
          "base_uri": "https://localhost:8080/"
        },
        "id": "1T1FoZPWTG7Q",
        "outputId": "8978abd3-6308-41aa-9ce0-35543aa133ec"
      },
      "execution_count": 178,
      "outputs": [
        {
          "output_type": "stream",
          "name": "stdout",
          "text": [
            "['bread', 'milk', 'apple', 'coffee', 'orange']\n"
          ]
        }
      ]
    },
    {
      "cell_type": "code",
      "source": [
        "shopping.sort()\n",
        "print(shopping)"
      ],
      "metadata": {
        "colab": {
          "base_uri": "https://localhost:8080/"
        },
        "id": "uf1nkZwGTI3A",
        "outputId": "39b4bae6-6791-4adf-8f58-73432636e675"
      },
      "execution_count": 179,
      "outputs": [
        {
          "output_type": "stream",
          "name": "stdout",
          "text": [
            "['apple', 'bread', 'coffee', 'milk', 'orange']\n"
          ]
        }
      ]
    },
    {
      "cell_type": "code",
      "source": [
        "shopping.sort(reverse = True)\n",
        "print(shopping)"
      ],
      "metadata": {
        "colab": {
          "base_uri": "https://localhost:8080/"
        },
        "id": "pqJo1LqRTK08",
        "outputId": "ac513720-bdc4-4301-be8d-60393027fe60"
      },
      "execution_count": 180,
      "outputs": [
        {
          "output_type": "stream",
          "name": "stdout",
          "text": [
            "['orange', 'milk', 'coffee', 'bread', 'apple']\n"
          ]
        }
      ]
    },
    {
      "cell_type": "code",
      "source": [
        "shopping.index('coffee')"
      ],
      "metadata": {
        "colab": {
          "base_uri": "https://localhost:8080/"
        },
        "id": "zkuVthoZTM4Y",
        "outputId": "0dc22ebb-2cf1-441f-e82c-cd3ad6273f81"
      },
      "execution_count": 181,
      "outputs": [
        {
          "output_type": "execute_result",
          "data": {
            "text/plain": [
              "2"
            ]
          },
          "metadata": {},
          "execution_count": 181
        }
      ]
    },
    {
      "cell_type": "code",
      "source": [
        "movie = {\n",
        "    \"title\": \"The Godfather\",\n",
        "    \"director\": \"Francis Ford Coppola\",\n",
        "    \"year\": 1972,\n",
        "    \"rating\": 9.2\n",
        "}"
      ],
      "metadata": {
        "id": "cbFCljSiTOxM"
      },
      "execution_count": 182,
      "outputs": []
    },
    {
      "cell_type": "code",
      "source": [
        "print(movie['year'])"
      ],
      "metadata": {
        "colab": {
          "base_uri": "https://localhost:8080/"
        },
        "id": "aSf0I6-VTTY4",
        "outputId": "ed812406-8e80-44f7-fb63-d0f868426c2e"
      },
      "execution_count": 183,
      "outputs": [
        {
          "output_type": "stream",
          "name": "stdout",
          "text": [
            "1972\n"
          ]
        }
      ]
    },
    {
      "cell_type": "code",
      "source": [
        "movie['rating'] = (movie['rating'] + 9.3)/2\n",
        "print(movie['rating'])"
      ],
      "metadata": {
        "colab": {
          "base_uri": "https://localhost:8080/"
        },
        "id": "mqnOvj1UTWjE",
        "outputId": "29d57717-61aa-4d69-f766-c7913f84153a"
      },
      "execution_count": 184,
      "outputs": [
        {
          "output_type": "stream",
          "name": "stdout",
          "text": [
            "9.25\n"
          ]
        }
      ]
    },
    {
      "cell_type": "code",
      "source": [
        "movie = {}\n",
        "movie['title'] = \"The Godfather\"\n",
        "movie['director'] = \"Francis Ford Coppola\"\n",
        "movie['year'] = 1972\n",
        "movie['rating'] = 9.2"
      ],
      "metadata": {
        "id": "c8nu0wOOTZIo"
      },
      "execution_count": 185,
      "outputs": []
    },
    {
      "cell_type": "code",
      "source": [
        "movie['actors'] = ['Marlon Brando', 'Al Pacino', 'James Caan']\n",
        "movie['other_details'] = {\n",
        "    'runtime': 175,\n",
        "    'language': 'English'\n",
        "}\n",
        "print(movie )"
      ],
      "metadata": {
        "colab": {
          "base_uri": "https://localhost:8080/"
        },
        "id": "i-JC_42fTbNF",
        "outputId": "292915eb-0153-453a-b4f6-583ef8265e6a"
      },
      "execution_count": 186,
      "outputs": [
        {
          "output_type": "stream",
          "name": "stdout",
          "text": [
            "{'title': 'The Godfather', 'director': 'Francis Ford Coppola', 'year': 1972, 'rating': 9.2, 'actors': ['Marlon Brando', 'Al Pacino', 'James Caan'], 'other_details': {'runtime': 175, 'language': 'English'}}\n"
          ]
        }
      ]
    },
    {
      "cell_type": "code",
      "source": [
        "items = ['apple', 'orange', 'banana']\n",
        "quantity = [5,3,2]"
      ],
      "metadata": {
        "id": "EiC_GovhTem-"
      },
      "execution_count": 187,
      "outputs": []
    },
    {
      "cell_type": "code",
      "source": [
        "orders = zip(items,quantity)\n",
        "print(orders)"
      ],
      "metadata": {
        "colab": {
          "base_uri": "https://localhost:8080/"
        },
        "id": "XZ6w7sGxTmay",
        "outputId": "248b69a3-bddb-4df4-c44b-24d87c0110d0"
      },
      "execution_count": 188,
      "outputs": [
        {
          "output_type": "stream",
          "name": "stdout",
          "text": [
            "<zip object at 0x7a70db27a4c0>\n"
          ]
        }
      ]
    },
    {
      "cell_type": "code",
      "source": [
        "orders = zip(items,quantity)\n",
        "print(list(orders))"
      ],
      "metadata": {
        "colab": {
          "base_uri": "https://localhost:8080/"
        },
        "id": "IfAvFyNIToM4",
        "outputId": "54972858-b6ae-4c2b-d2ac-516db973f512"
      },
      "execution_count": 189,
      "outputs": [
        {
          "output_type": "stream",
          "name": "stdout",
          "text": [
            "[('apple', 5), ('orange', 3), ('banana', 2)]\n"
          ]
        }
      ]
    },
    {
      "cell_type": "code",
      "source": [
        "orders = zip(items,quantity)\n",
        "print(tuple(orders))"
      ],
      "metadata": {
        "colab": {
          "base_uri": "https://localhost:8080/"
        },
        "id": "SekvFov0Tqtf",
        "outputId": "79d4c56a-acd7-4c37-902a-825c27565796"
      },
      "execution_count": 190,
      "outputs": [
        {
          "output_type": "stream",
          "name": "stdout",
          "text": [
            "(('apple', 5), ('orange', 3), ('banana', 2))\n"
          ]
        }
      ]
    },
    {
      "cell_type": "code",
      "source": [
        "orders = zip(items,quantity)\n",
        "print(dict(orders))"
      ],
      "metadata": {
        "colab": {
          "base_uri": "https://localhost:8080/"
        },
        "id": "Gxr4KcUcTt4j",
        "outputId": "996b8e2d-f542-4265-ad18-51ce94b09c58"
      },
      "execution_count": 191,
      "outputs": [
        {
          "output_type": "stream",
          "name": "stdout",
          "text": [
            "{'apple': 5, 'orange': 3, 'banana': 2}\n"
          ]
        }
      ]
    },
    {
      "cell_type": "code",
      "source": [
        "orders = {'apple':5, 'orange':3, 'banana':2}\n",
        "print(orders.values())\n",
        "print(list(orders.values()))"
      ],
      "metadata": {
        "colab": {
          "base_uri": "https://localhost:8080/"
        },
        "id": "FYOvLS9jTwre",
        "outputId": "270e5d81-c29f-4b32-e3dc-2ebbad9c164e"
      },
      "execution_count": 192,
      "outputs": [
        {
          "output_type": "stream",
          "name": "stdout",
          "text": [
            "dict_values([5, 3, 2])\n",
            "[5, 3, 2]\n"
          ]
        }
      ]
    },
    {
      "cell_type": "code",
      "source": [
        "print(list(orders.keys()))"
      ],
      "metadata": {
        "colab": {
          "base_uri": "https://localhost:8080/"
        },
        "id": "JE6AKMkTT70x",
        "outputId": "13731804-ba49-4d05-895f-28dfe42499c8"
      },
      "execution_count": 193,
      "outputs": [
        {
          "output_type": "stream",
          "name": "stdout",
          "text": [
            "['apple', 'orange', 'banana']\n"
          ]
        }
      ]
    },
    {
      "cell_type": "code",
      "source": [
        "for tuple in list(orders.items()):\n",
        "    print(tuple)"
      ],
      "metadata": {
        "colab": {
          "base_uri": "https://localhost:8080/"
        },
        "id": "W3ZEarSWT-rD",
        "outputId": "dc032c6f-98fd-4411-9f92-62dedc91a51f"
      },
      "execution_count": 194,
      "outputs": [
        {
          "output_type": "stream",
          "name": "stdout",
          "text": [
            "('apple', 5)\n",
            "('orange', 3)\n",
            "('banana', 2)\n"
          ]
        }
      ]
    },
    {
      "cell_type": "code",
      "source": [
        "t = ('bread', 'milk', 'eggs')\n",
        "print(len(t))\n",
        ""
      ],
      "metadata": {
        "colab": {
          "base_uri": "https://localhost:8080/"
        },
        "id": "casaS39QUAzu",
        "outputId": "afb4f4da-0431-44b5-8706-e73c1d65d3de"
      },
      "execution_count": 195,
      "outputs": [
        {
          "output_type": "stream",
          "name": "stdout",
          "text": [
            "3\n"
          ]
        }
      ]
    },
    {
      "cell_type": "code",
      "source": [
        "\n",
        "t.append('apple')"
      ],
      "metadata": {
        "colab": {
          "base_uri": "https://localhost:8080/",
          "height": 146
        },
        "id": "-W3UOo7AUFzC",
        "outputId": "d57d5feb-2e3d-4e3b-e748-7abb615bc7f3"
      },
      "execution_count": 196,
      "outputs": [
        {
          "output_type": "error",
          "ename": "AttributeError",
          "evalue": "'tuple' object has no attribute 'append'",
          "traceback": [
            "\u001b[0;31m---------------------------------------------------------------------------\u001b[0m",
            "\u001b[0;31mAttributeError\u001b[0m                            Traceback (most recent call last)",
            "\u001b[0;32m<ipython-input-196-24b3d64214b3>\u001b[0m in \u001b[0;36m<cell line: 1>\u001b[0;34m()\u001b[0m\n\u001b[0;32m----> 1\u001b[0;31m \u001b[0mt\u001b[0m\u001b[0;34m.\u001b[0m\u001b[0mappend\u001b[0m\u001b[0;34m(\u001b[0m\u001b[0;34m'apple'\u001b[0m\u001b[0;34m)\u001b[0m\u001b[0;34m\u001b[0m\u001b[0;34m\u001b[0m\u001b[0m\n\u001b[0m",
            "\u001b[0;31mAttributeError\u001b[0m: 'tuple' object has no attribute 'append'"
          ]
        }
      ]
    },
    {
      "cell_type": "code",
      "source": [
        "t[2] = 'apple'"
      ],
      "metadata": {
        "colab": {
          "base_uri": "https://localhost:8080/",
          "height": 146
        },
        "id": "r2SBDsdcUIEP",
        "outputId": "4d757fd2-1743-4b52-fefd-e977338826e6"
      },
      "execution_count": 197,
      "outputs": [
        {
          "output_type": "error",
          "ename": "TypeError",
          "evalue": "'tuple' object does not support item assignment",
          "traceback": [
            "\u001b[0;31m---------------------------------------------------------------------------\u001b[0m",
            "\u001b[0;31mTypeError\u001b[0m                                 Traceback (most recent call last)",
            "\u001b[0;32m<ipython-input-197-190718a1298c>\u001b[0m in \u001b[0;36m<cell line: 1>\u001b[0;34m()\u001b[0m\n\u001b[0;32m----> 1\u001b[0;31m \u001b[0mt\u001b[0m\u001b[0;34m[\u001b[0m\u001b[0;36m2\u001b[0m\u001b[0;34m]\u001b[0m \u001b[0;34m=\u001b[0m \u001b[0;34m'apple'\u001b[0m\u001b[0;34m\u001b[0m\u001b[0;34m\u001b[0m\u001b[0m\n\u001b[0m",
            "\u001b[0;31mTypeError\u001b[0m: 'tuple' object does not support item assignment"
          ]
        }
      ]
    },
    {
      "cell_type": "code",
      "source": [
        "print(t + ('apple','orange'))\n",
        "print(t)"
      ],
      "metadata": {
        "colab": {
          "base_uri": "https://localhost:8080/"
        },
        "id": "B83IR-GJULVd",
        "outputId": "8092dab0-07b8-4399-dd38-21f8c172553d"
      },
      "execution_count": 198,
      "outputs": [
        {
          "output_type": "stream",
          "name": "stdout",
          "text": [
            "('bread', 'milk', 'eggs', 'apple', 'orange')\n",
            "('bread', 'milk', 'eggs')\n"
          ]
        }
      ]
    },
    {
      "cell_type": "code",
      "source": [
        "t_mixed = 'apple', True, 3\n",
        "print(t_mixed)\n",
        "\n",
        "t_shopping = ('apple',3), ('orange',2), ('banana',5)\n",
        "print(t_shopping)"
      ],
      "metadata": {
        "colab": {
          "base_uri": "https://localhost:8080/"
        },
        "id": "rQ9CVmZBUPC4",
        "outputId": "388b4d14-db7c-473d-bd9f-7224781dc44a"
      },
      "execution_count": 199,
      "outputs": [
        {
          "output_type": "stream",
          "name": "stdout",
          "text": [
            "('apple', True, 3)\n",
            "(('apple', 3), ('orange', 2), ('banana', 5))\n"
          ]
        }
      ]
    },
    {
      "cell_type": "code",
      "source": [
        "s1 = set([1,2,3,4,5,6])\n",
        "print(s1)\n",
        "s2 = set([1,2,2,3,4,4,5,6,6])\n",
        "print(s2)\n",
        "s3 = set([3,4,5,6,6,6,1,1,2])\n",
        "print(s3)"
      ],
      "metadata": {
        "colab": {
          "base_uri": "https://localhost:8080/"
        },
        "id": "V-dYy5IaURLp",
        "outputId": "791fc4ec-f8da-41e8-e96f-536f75849b9d"
      },
      "execution_count": 200,
      "outputs": [
        {
          "output_type": "stream",
          "name": "stdout",
          "text": [
            "{1, 2, 3, 4, 5, 6}\n",
            "{1, 2, 3, 4, 5, 6}\n",
            "{1, 2, 3, 4, 5, 6}\n"
          ]
        }
      ]
    },
    {
      "cell_type": "code",
      "source": [
        "s4 = {\"apple\", \"orange\", \"banana\"}\n",
        "print(s4)"
      ],
      "metadata": {
        "colab": {
          "base_uri": "https://localhost:8080/"
        },
        "id": "HNcfRnT3UWIl",
        "outputId": "b8e05ced-e49b-478b-c67b-a354d9f27f3c"
      },
      "execution_count": 201,
      "outputs": [
        {
          "output_type": "stream",
          "name": "stdout",
          "text": [
            "{'apple', 'orange', 'banana'}\n"
          ]
        }
      ]
    },
    {
      "cell_type": "code",
      "source": [
        "s4.add('pineapple')\n",
        "print(s4)"
      ],
      "metadata": {
        "colab": {
          "base_uri": "https://localhost:8080/"
        },
        "id": "YVUaAyANUYrm",
        "outputId": "c582672b-583b-43a7-9a8b-3f5cb8742be7"
      },
      "execution_count": 202,
      "outputs": [
        {
          "output_type": "stream",
          "name": "stdout",
          "text": [
            "{'apple', 'orange', 'banana', 'pineapple'}\n"
          ]
        }
      ]
    },
    {
      "cell_type": "code",
      "source": [
        "s5 = {1,2,3,4}\n",
        "s6 = {3,4,5,6}"
      ],
      "metadata": {
        "id": "F7ifZmylUa7A"
      },
      "execution_count": 203,
      "outputs": []
    },
    {
      "cell_type": "code",
      "source": [
        "print(s5 | s6)\n",
        "print(s5.union(s6))"
      ],
      "metadata": {
        "colab": {
          "base_uri": "https://localhost:8080/"
        },
        "id": "7I2yVSiuUf-1",
        "outputId": "432fbdb8-8a8c-4aba-ac9c-9f842289594d"
      },
      "execution_count": 204,
      "outputs": [
        {
          "output_type": "stream",
          "name": "stdout",
          "text": [
            "{1, 2, 3, 4, 5, 6}\n",
            "{1, 2, 3, 4, 5, 6}\n"
          ]
        }
      ]
    },
    {
      "cell_type": "code",
      "source": [
        "print(s5 & s6)\n",
        "print(s5.intersection(s6))"
      ],
      "metadata": {
        "colab": {
          "base_uri": "https://localhost:8080/"
        },
        "id": "kZwaPmTLUi3p",
        "outputId": "b8f3e8b1-fbd8-4ab4-98ea-b5a944570d5d"
      },
      "execution_count": 205,
      "outputs": [
        {
          "output_type": "stream",
          "name": "stdout",
          "text": [
            "{3, 4}\n",
            "{3, 4}\n"
          ]
        }
      ]
    },
    {
      "cell_type": "code",
      "source": [
        "print(s5 - s6)\n",
        "print(s5.difference(s6))"
      ],
      "metadata": {
        "colab": {
          "base_uri": "https://localhost:8080/"
        },
        "id": "UrheiD_WUlE3",
        "outputId": "2c1a8ad5-9935-4a05-bd4a-e478cae495db"
      },
      "execution_count": 206,
      "outputs": [
        {
          "output_type": "stream",
          "name": "stdout",
          "text": [
            "{1, 2}\n",
            "{1, 2}\n"
          ]
        }
      ]
    },
    {
      "cell_type": "code",
      "source": [
        "print(s5 <= s6)\n",
        "print(s5.issubset(s6))\n",
        "\n",
        "s7 = {1,2,3}\n",
        "s8 = {1,2,3,4,5}\n",
        "\n",
        "print(s7 <= s8)\n",
        "print(s7.issubset(s8))"
      ],
      "metadata": {
        "colab": {
          "base_uri": "https://localhost:8080/"
        },
        "id": "DyYUFHUDUnbJ",
        "outputId": "dc4df56b-7df0-4be8-b5a4-4be663dd30ae"
      },
      "execution_count": 207,
      "outputs": [
        {
          "output_type": "stream",
          "name": "stdout",
          "text": [
            "False\n",
            "False\n",
            "True\n",
            "True\n"
          ]
        }
      ]
    },
    {
      "cell_type": "code",
      "source": [
        "print(s7 < s8)\n",
        "\n",
        "s9 = {1,2,3}\n",
        "s10 = {1,2,3}\n",
        "\n",
        "print(s9 < s10)\n",
        "print(s9 < s9)"
      ],
      "metadata": {
        "colab": {
          "base_uri": "https://localhost:8080/"
        },
        "id": "ocl73CE2Uqrf",
        "outputId": "933cd428-0020-4aa2-c381-c92cfcbb220d"
      },
      "execution_count": 208,
      "outputs": [
        {
          "output_type": "stream",
          "name": "stdout",
          "text": [
            "True\n",
            "False\n",
            "False\n"
          ]
        }
      ]
    },
    {
      "cell_type": "code",
      "source": [
        "print(s8 >= s7)\n",
        "print(s8.issuperset(s7))\n",
        "print(s8 > s7)\n",
        "print(s8 > s8)"
      ],
      "metadata": {
        "id": "8Hn_OB7MUtIo",
        "outputId": "ab48b4f3-4c72-475a-89c9-34565b70c01d",
        "colab": {
          "base_uri": "https://localhost:8080/"
        }
      },
      "execution_count": 209,
      "outputs": [
        {
          "output_type": "stream",
          "name": "stdout",
          "text": [
            "True\n",
            "True\n",
            "True\n",
            "False\n"
          ]
        }
      ]
    },
    {
      "cell_type": "code",
      "source": [],
      "metadata": {
        "id": "JMZSHwmYUvjc"
      },
      "execution_count": null,
      "outputs": []
    }
  ]
}